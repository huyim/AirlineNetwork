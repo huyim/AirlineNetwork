{
 "cells": [
  {
   "cell_type": "code",
   "execution_count": 213,
   "metadata": {},
   "outputs": [],
   "source": [
    "import sys, time\n",
    "import pandas as pd\n",
    "import datetime as dt\n",
    "from IPython.display import display\n",
    "import numpy as np"
   ]
  },
  {
   "cell_type": "code",
   "execution_count": 214,
   "metadata": {
    "scrolled": true
   },
   "outputs": [
    {
     "name": "stdout",
     "output_type": "stream",
     "text": [
      "Requirement already satisfied: airportsdata in /opt/homebrew/Caskroom/miniforge/base/envs/networkscience/lib/python3.9/site-packages (20221121)\r\n"
     ]
    }
   ],
   "source": [
    "! pip install -U airportsdata"
   ]
  },
  {
   "cell_type": "code",
   "execution_count": 226,
   "metadata": {
    "scrolled": true
   },
   "outputs": [
    {
     "data": {
      "text/plain": [
       "{'icao': 'KJFK',\n",
       " 'iata': 'JFK',\n",
       " 'name': 'John F Kennedy International Airport',\n",
       " 'city': 'New York',\n",
       " 'subd': 'New York',\n",
       " 'country': 'US',\n",
       " 'elevation': 13.0,\n",
       " 'lat': 40.6399277777778,\n",
       " 'lon': -73.7786925,\n",
       " 'tz': 'America/New_York',\n",
       " 'lid': 'JFK'}"
      ]
     },
     "execution_count": 226,
     "metadata": {},
     "output_type": "execute_result"
    }
   ],
   "source": [
    "airports['KJFK']"
   ]
  },
  {
   "cell_type": "code",
   "execution_count": 215,
   "metadata": {},
   "outputs": [],
   "source": [
    "import airportsdata\n",
    "airports = airportsdata.load()\n",
    "# Replace non-ascii characters\n",
    "for (k,v) in airports.items():\n",
    "    old = airports[k]['name']\n",
    "    airports[k]['name'] = ''.join([i if ord(i) < 128 else ' ' for i in old])"
   ]
  },
  {
   "cell_type": "code",
   "execution_count": 216,
   "metadata": {},
   "outputs": [],
   "source": [
    "path = 'flightlist_20191201_20191231.csv'"
   ]
  },
  {
   "cell_type": "code",
   "execution_count": 217,
   "metadata": {},
   "outputs": [],
   "source": [
    "#helpers\n",
    "space = \" \"\n",
    "tab = space * 2\n",
    "two_tabs = space * 4\n",
    "nl = \"\\n\"\n",
    "left_bracket = f\"{'['}\"\n",
    "right_bracket = f\"{']'}\""
   ]
  },
  {
   "cell_type": "code",
   "execution_count": 218,
   "metadata": {},
   "outputs": [],
   "source": [
    "#Write an edge\n",
    "def write_edge(source,target,value,f):\n",
    "    record = (f\"{tab}edge{nl}\"\n",
    "              f\"{tab}{left_bracket}{nl}\"\n",
    "              f\"{two_tabs}source{space}\\\"{source}\\\"{nl}\"\n",
    "              f\"{two_tabs}target{space}\\\"{target}\\\"{nl}\"\n",
    "              f\"{two_tabs}value{space}{value}{nl}\"\n",
    "              f\"{tab}{right_bracket}{nl}\")\n",
    "    f.write(record.encode('ascii'))"
   ]
  },
  {
   "cell_type": "code",
   "execution_count": 219,
   "metadata": {},
   "outputs": [],
   "source": [
    "#Write a node\n",
    "def write_node(airport,f):\n",
    "    record = (f\"{tab}node{nl}\"\n",
    "              f\"{tab}{left_bracket}{nl}\"\n",
    "              f\"{two_tabs}id{space}\\\"{airport['icao']}\\\"{nl}\"\n",
    "              f\"{two_tabs}label{space}\\\"{airport['name']}-{airport['country']}\\\"{nl}\"\n",
    "              f\"{tab}{right_bracket}{nl}\")\n",
    "    f.write(record.encode('ascii'))"
   ]
  },
  {
   "cell_type": "code",
   "execution_count": 227,
   "metadata": {},
   "outputs": [],
   "source": [
    "def csv_to_gml(csv_file_path):\n",
    "    df = pd.read_csv(csv_file_path,usecols=['origin','destination'],dtype=str)\n",
    "    df = df.dropna()\n",
    "    df = df.groupby(['origin','destination'], as_index=False).size().rename(columns={\"size\":\"flight_count\"})\n",
    "    f = open(f\"{csv_file_path.split('.')[0]}.gml\", \"wb\")\n",
    "    #loop helpers\n",
    "    added = []\n",
    "    added_edges_sets = []\n",
    "    ind = 0\n",
    "\n",
    "    #Root node\n",
    "    f.write(f\"graph{nl}\".encode(\"ascii\"))\n",
    "    f.write(f\"{left_bracket}{nl}\".encode(\"ascii\"))\n",
    "\n",
    "    #Generate nodes\n",
    "    for i, r in df.iterrows():\n",
    "        #increment, as index not reliable\n",
    "        ind += 1\n",
    "        origin = r['origin']\n",
    "        destination = r['destination']\n",
    "        #Check for duplicates\n",
    "        \n",
    "        # Also we want only airport with iata code, these airport are tend not to be private or military airports\n",
    "        if (origin not in added and origin in airports and airports[origin]['iata'] != ''):\n",
    "            #Add to list\n",
    "            added.append(origin)\n",
    "            write_node(airports[origin],f)\n",
    "        if (destination not in added and destination in airports and airports[destination]['iata'] != ''):\n",
    "            #Add to list\n",
    "            added.append(destination)\n",
    "            write_node(airports[destination],f)\n",
    "        #print the progress\n",
    "        if ind % 100000 == 0:\n",
    "            print(f\"Writing Nodes {ind} of {len(df)}\")\n",
    "\n",
    "    print(nl+\"Printing nodes over\")\n",
    "\n",
    "    #flush index\n",
    "    ind = 0    \n",
    "    #Generate edges    \n",
    "    for i, r in df.iterrows():\n",
    "        #increment, as index not reliable\n",
    "        ind += 1\n",
    "        origin = r['origin']\n",
    "        destination = r['destination']\n",
    "        edge_set = set([origin,destination])\n",
    "        if (origin in added and destination in added and edge_set not in added_edges_sets):\n",
    "            #Find all the records between origin and destination\n",
    "            cond = ((df['origin'] == origin) & (df['destination'] == destination))|((df['origin'] == destination) & (df['destination'] == origin))\n",
    "            n_flights = df.loc[cond]['flight_count'].sum()\n",
    "            write_edge(origin, destination, n_flights,f)\n",
    "            added_edges_sets.append(edge_set)\n",
    "        if ind % 1000 == 0:\n",
    "            sys.stdout.flush()\n",
    "            sys.stdout.write('\\r')\n",
    "            sys.stdout.flush()\n",
    "            sys.stdout.write(f\"Writing Edges {ind} of {len(df)}\")\n",
    "\n",
    "\n",
    "    print(nl+\"Printing nodes and edges over\")\n",
    "\n",
    "    #closing node\n",
    "    f.write(f\"{right_bracket}{nl}\".encode(\"ascii\"))\n",
    "    f.close()"
   ]
  },
  {
   "cell_type": "code",
   "execution_count": 221,
   "metadata": {
    "scrolled": true
   },
   "outputs": [
    {
     "name": "stdout",
     "output_type": "stream",
     "text": [
      "Writing Nodes 100000 of 170990\n",
      "\n",
      "Printing nodes over\n",
      "Writing Edges 170000 of 170990\n",
      "Printing nodes and edges over\n"
     ]
    }
   ],
   "source": [
    "csv_to_gml(path)"
   ]
  },
  {
   "cell_type": "code",
   "execution_count": 228,
   "metadata": {},
   "outputs": [
    {
     "name": "stdout",
     "output_type": "stream",
     "text": [
      "Writing Nodes 100000 of 181146\n",
      "\n",
      "Printing nodes over\n",
      "Writing Edges 181000 of 181146\n",
      "Printing nodes and edges over\n"
     ]
    }
   ],
   "source": [
    "csv_to_gml(\"flightlist_20200201_20200229.csv\")"
   ]
  },
  {
   "cell_type": "code",
   "execution_count": 232,
   "metadata": {},
   "outputs": [
    {
     "name": "stdout",
     "output_type": "stream",
     "text": [
      "Writing Nodes 100000 of 114568\n",
      "\n",
      "Printing nodes over\n",
      "Writing Edges 114000 of 114568\n",
      "Printing nodes and edges over\n"
     ]
    }
   ],
   "source": [
    "csv_to_gml(\"flightlist_20200401_20200430.csv\")"
   ]
  },
  {
   "cell_type": "code",
   "execution_count": 229,
   "metadata": {
    "scrolled": true
   },
   "outputs": [],
   "source": [
    "import networkx as nx\n",
    "g = nx.read_gml(\"flightlist_20200201_20200229.gml\")"
   ]
  },
  {
   "cell_type": "code",
   "execution_count": 230,
   "metadata": {
    "scrolled": false
   },
   "outputs": [
    {
     "data": {
      "image/png": "[encoded data removed]",
      "text/plain": [
       "<Figure size 640x480 with 1 Axes>"
      ]
     },
     "metadata": {},
     "output_type": "display_data"
    }
   ],
   "source": [
    "nx.draw(g,nx.spring_layout(g),node_size=1)"
   ]
  },
  {
   "cell_type": "code",
   "execution_count": null,
   "metadata": {},
   "outputs": [],
   "source": []
  }
 ],
 "metadata": {
  "kernelspec": {
   "display_name": "Python 3 (ipykernel)",
   "language": "python",
   "name": "python3"
  },
  "language_info": {
   "codemirror_mode": {
    "name": "ipython",
    "version": 3
   },
   "file_extension": ".py",
   "mimetype": "text/x-python",
   "name": "python",
   "nbconvert_exporter": "python",
   "pygments_lexer": "ipython3",
   "version": "3.9.13"
  }
 },
 "nbformat": 4,
 "nbformat_minor": 1
}
